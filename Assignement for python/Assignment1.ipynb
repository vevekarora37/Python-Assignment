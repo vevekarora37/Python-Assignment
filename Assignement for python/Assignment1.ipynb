{
 "cells": [
  {
   "cell_type": "code",
   "execution_count": null,
   "id": "99e0588e-2645-4b1e-b9e9-2814a27b6183",
   "metadata": {},
   "outputs": [],
   "source": [
    "# (1) What are the types of Applications?\n",
    "\"\"\" web applcations, mobile applications, desktop applications, cloud applications.\"\"\"\n"
   ]
  },
  {
   "cell_type": "code",
   "execution_count": null,
   "id": "9b342ff4-4c88-4819-a7d9-f35d613236c3",
   "metadata": {},
   "outputs": [],
   "source": [
    "#(2)What is programing? \n",
    "\"\"\"programming is a syntax to write the codes which used to create software applcations. For example C,C++, Java ,.net, PHP.\"\"\""
   ]
  },
  {
   "cell_type": "code",
   "execution_count": null,
   "id": "ed9d0146-1995-4e73-8899-eba9c21522f5",
   "metadata": {},
   "outputs": [],
   "source": [
    "#(3) What is Python? \n",
    "\"\"\" Python is a easy to use programming language founded by Guido Van Rossum in 1991. It is used to create web applications,\n",
    "desktop applications and mobile applications.\"\"\""
   ]
  },
  {
   "cell_type": "code",
   "execution_count": 3,
   "id": "9d90428c-5845-4d1a-b2d9-64eff93f3a62",
   "metadata": {},
   "outputs": [
    {
     "name": "stdin",
     "output_type": "stream",
     "text": [
      "Enter a Number: -5\n"
     ]
    },
    {
     "name": "stdout",
     "output_type": "stream",
     "text": [
      "Number is Negative\n"
     ]
    }
   ],
   "source": [
    "#(4) Write a Python program to check if a number is positive, negative or zero. \n",
    "\n",
    "a = int(input(\"Enter a Number:\"))\n",
    "\n",
    "if a > 0:\n",
    "    print(\"Number is positive\")\n",
    "elif a < 0:\n",
    "    print(\"Number is Negative\")\n",
    "else:\n",
    "    print(\"Number is Zero\")\n",
    "\n"
   ]
  },
  {
   "cell_type": "code",
   "execution_count": 3,
   "id": "22b5c5f5-e58a-45a3-83e1-788f95283760",
   "metadata": {},
   "outputs": [
    {
     "name": "stdin",
     "output_type": "stream",
     "text": [
      "Enter a number:  5\n"
     ]
    },
    {
     "name": "stdout",
     "output_type": "stream",
     "text": [
      "Factorial is:  120\n"
     ]
    }
   ],
   "source": [
    "#(5) Write a Python program to get the Factorial number of given numbers. \n",
    "b = int(input(\"Enter a number: \"))\n",
    "\n",
    "if b < 0:\n",
    "    print(\"Factorial is not for negative numbers.\")\n",
    "else:\n",
    "    factorial = 1\n",
    "    for i in range(1, b + 1):\n",
    "        factorial *= i\n",
    "\n",
    "    print(\"Factorial is: \",factorial)\n"
   ]
  },
  {
   "cell_type": "code",
   "execution_count": 13,
   "id": "30c1c4df-1a48-4331-a895-14b6bd01f85e",
   "metadata": {},
   "outputs": [
    {
     "name": "stdin",
     "output_type": "stream",
     "text": [
      "Enter the range:  4\n"
     ]
    },
    {
     "name": "stdout",
     "output_type": "stream",
     "text": [
      "0 1 1 2 "
     ]
    }
   ],
   "source": [
    "#(6) Write a Python program to get the Fibonacci series of given range. \n",
    "\n",
    "a2 = int(input(\"Enter the range: \"))\n",
    "\n",
    "a, b = 0, 1\n",
    "\n",
    "for i in range(a2):\n",
    "    print(a, end=\" \")\n",
    "    a, b = b, a + b\n",
    "\n",
    "    \n",
    "         "
   ]
  },
  {
   "cell_type": "code",
   "execution_count": null,
   "id": "a16b52fa-6146-4fd5-a076-bb796499893d",
   "metadata": {},
   "outputs": [],
   "source": [
    "#(7) How memory is managed in Python?\n",
    "\"\"\" ans:In python memory is managed by Garbage collection and referrence counting. Garbage collecter automatically free up memory occupied by objects which \n",
    "no longer in use. Each object has a reference count that indicates number of reference to that particular object.\"\"\"\n"
   ]
  },
  {
   "cell_type": "code",
   "execution_count": 14,
   "id": "c5706be3-b67c-44d2-bfee-49caacc3584f",
   "metadata": {},
   "outputs": [
    {
     "name": "stdout",
     "output_type": "stream",
     "text": [
      "1\n",
      "2\n",
      "3\n",
      "5\n"
     ]
    }
   ],
   "source": [
    "#(8) What is the purpose continuing statement in python?\n",
    "\"\"\"ans: The purpose of the Continuing statement in Python is to skip the current iteration of loop and proceed to next one.\n",
    "for example:\"\"\"\n",
    "for m in range(1, 6):\n",
    "    if m == 4:\n",
    "        continue\n",
    "    print(m)"
   ]
  },
  {
   "cell_type": "code",
   "execution_count": 16,
   "id": "9a7d581c-f684-4457-841d-fed3a464d2bb",
   "metadata": {},
   "outputs": [
    {
     "name": "stdin",
     "output_type": "stream",
     "text": [
      "Enter the number for a:  2\n",
      "Enter the number for b:  5\n"
     ]
    },
    {
     "name": "stdout",
     "output_type": "stream",
     "text": [
      "Before swapping: a = 2 , b = 5\n",
      "After swapping: a = 5 , b = 2\n"
     ]
    }
   ],
   "source": [
    "#(9) Write python program that swap two number with temp variable and without temp variable.\n",
    "#swapping with a Temporary Variable:\n",
    "\n",
    "a = int(input(\"Enter the number for a: \"))\n",
    "b = int(input(\"Enter the number for b: \"))\n",
    "\n",
    "print(\"Before swapping: a =\", a, \", b =\", b)\n",
    "\n",
    "temp = a\n",
    "a = b\n",
    "b = temp\n",
    "\n",
    "print(\"After swapping: a =\", a, \", b =\", b)\n",
    "\n"
   ]
  },
  {
   "cell_type": "code",
   "execution_count": 17,
   "id": "1b935398-a958-416a-8f7f-82c5bd840209",
   "metadata": {},
   "outputs": [
    {
     "name": "stdin",
     "output_type": "stream",
     "text": [
      "Enter the number for a:  4\n",
      "Enter the number for b:  9\n"
     ]
    },
    {
     "name": "stdout",
     "output_type": "stream",
     "text": [
      "Before swapping: a = 4 , b = 9\n",
      "After swapping: a = 9 , b = 4\n"
     ]
    }
   ],
   "source": [
    "#(9) Swapping without temp variable\n",
    "a = int(input(\"Enter the number for a: \"))\n",
    "b = int(input(\"Enter the number for b: \"))\n",
    "\n",
    "print(\"Before swapping: a =\", a, \", b =\", b)\n",
    "\n",
    "a, b = b, a\n",
    "\n",
    "print(\"After swapping: a =\", a, \", b =\", b)"
   ]
  },
  {
   "cell_type": "code",
   "execution_count": 15,
   "id": "e9f82134-c512-44dd-bddc-03f9e35efc73",
   "metadata": {},
   "outputs": [
    {
     "name": "stdin",
     "output_type": "stream",
     "text": [
      "enter a number 456\n"
     ]
    },
    {
     "name": "stdout",
     "output_type": "stream",
     "text": [
      "Number is even number\n"
     ]
    }
   ],
   "source": [
    "#(10) Write a Python program to find whether a given number is even or odd, print out an appropriate message to the user. \n",
    "\n",
    "num = int (input(\"enter a number\"))\n",
    "\n",
    "if num % 2 == 0:\n",
    "    print(\"Number is even number\")\n",
    "else:\n",
    "    print(\"Number is odd number\")\n",
    "    "
   ]
  },
  {
   "cell_type": "code",
   "execution_count": 18,
   "id": "0dd74dde-f047-4a5d-a45e-980f40e84c27",
   "metadata": {},
   "outputs": [
    {
     "name": "stdin",
     "output_type": "stream",
     "text": [
      "Enter a letter:  f\n"
     ]
    },
    {
     "name": "stdout",
     "output_type": "stream",
     "text": [
      "f is not a vowel.\n"
     ]
    }
   ],
   "source": [
    "#(11) Write a Python program to test whether a passed letter is a vowel or not. \n",
    "\n",
    "c2 = input(\"Enter a letter: \")\n",
    "\n",
    "if c2 in 'AEIOUaeiou':\n",
    "    print(c2, \"is a vowel.\")\n",
    "else:\n",
    "    print(c2, \"is not a vowel.\")"
   ]
  },
  {
   "cell_type": "code",
   "execution_count": 23,
   "id": "073f90d2-cb08-4792-8119-e58ec2fe7d4f",
   "metadata": {},
   "outputs": [
    {
     "name": "stdin",
     "output_type": "stream",
     "text": [
      "Enter a 1st number :  7\n",
      "Enter a 2nd number :  6\n",
      "Enter a 3rd number :  8\n"
     ]
    },
    {
     "name": "stdout",
     "output_type": "stream",
     "text": [
      "Total sum is : 21\n"
     ]
    }
   ],
   "source": [
    "#(12) Write a Python program to sum of three given integers. However, if two values are equal sum will be zero.\n",
    "\n",
    "a1 = int(input(\"Enter a 1st number : \"))\n",
    "b1 = int(input(\"Enter a 2nd number : \"))\n",
    "c1 = int(input(\"Enter a 3rd number : \"))\n",
    "\n",
    "if a1 == b1 or b1 == c1 or c1 == a1:\n",
    "    print(0)\n",
    "else:\n",
    "    print(\"Total sum is :\", a1+b1+c1)\n",
    "    "
   ]
  },
  {
   "cell_type": "code",
   "execution_count": 24,
   "id": "4a91efd2-ea1c-45f1-8d33-a1260b849180",
   "metadata": {},
   "outputs": [
    {
     "name": "stdin",
     "output_type": "stream",
     "text": [
      "Enter first number:  20\n",
      "Enter second number:  15\n"
     ]
    },
    {
     "name": "stdout",
     "output_type": "stream",
     "text": [
      "True\n"
     ]
    }
   ],
   "source": [
    "#(13) Write a Python program that will return true if the two given integer values are equal or their sum or difference is 5. \n",
    "a2 = int(input(\"Enter first number: \"))\n",
    "b2 = int(input(\"Enter second number: \"))\n",
    "\n",
    "if a2 == b2 or a2 + b2 == 5 or a2 - b2 == 5:\n",
    "    print(True)\n",
    "else:\n",
    "    print(False)\n"
   ]
  },
  {
   "cell_type": "code",
   "execution_count": 25,
   "id": "40f21676-3afd-4cdb-8d2e-2a5bbe0e9383",
   "metadata": {},
   "outputs": [
    {
     "name": "stdin",
     "output_type": "stream",
     "text": [
      "Enter a positive integer:  7\n"
     ]
    },
    {
     "name": "stdout",
     "output_type": "stream",
     "text": [
      "sum=  28\n"
     ]
    }
   ],
   "source": [
    "#(14) Write a python program to sum of the first n positive integers. \n",
    "n = int(input(\"Enter a positive integer: \"))\n",
    "\n",
    "sum1 = 0\n",
    "for i in range(1, n + 1):\n",
    "    sum1 += i\n",
    "\n",
    "print(\"sum= \",sum1)"
   ]
  },
  {
   "cell_type": "code",
   "execution_count": 26,
   "id": "ec1685a7-4998-4e0c-b023-498433bc8fb3",
   "metadata": {},
   "outputs": [
    {
     "name": "stdin",
     "output_type": "stream",
     "text": [
      "enter a string: python language first assignment\n"
     ]
    },
    {
     "name": "stdout",
     "output_type": "stream",
     "text": [
      "The length is:  32\n"
     ]
    }
   ],
   "source": [
    "#(15) Write a Python program to calculate the length of a string. \n",
    "\n",
    "str = input(\"enter a string:\")\n",
    "\n",
    "length = len(str)\n",
    "\n",
    "print(\"The length is: \",length)\n"
   ]
  },
  {
   "cell_type": "code",
   "execution_count": 39,
   "id": "23bcc351-49d2-4c0c-b319-771ba648fcc2",
   "metadata": {},
   "outputs": [
    {
     "name": "stdin",
     "output_type": "stream",
     "text": [
      "Enter a string:  Hello world\n"
     ]
    },
    {
     "name": "stdout",
     "output_type": "stream",
     "text": [
      "Character frequencies:\n",
      "'H': 1\n",
      "'e': 1\n",
      "'l': 3\n",
      "'o': 2\n",
      "' ': 1\n",
      "'w': 1\n",
      "'r': 1\n",
      "'d': 1\n"
     ]
    }
   ],
   "source": [
    "#(16) Write a Python program to count the number of characters (character frequency) in a string\n",
    "\n",
    "str = input(\"Enter a string: \")\n",
    "\n",
    "count = {}\n",
    "\n",
    "for c in str:\n",
    "    if c in count:\n",
    "        count[c] += 1\n",
    "    else:\n",
    "        count[c] = 1\n",
    "\n",
    "print(\"Character frequencies:\")\n",
    "for c, countt in count.items():\n",
    "    print(f\"'{c}': {countt}\")\n",
    "\n",
    "\n"
   ]
  },
  {
   "cell_type": "code",
   "execution_count": 28,
   "id": "71df2ef8-ef83-49b8-8030-93b99070f7b3",
   "metadata": {},
   "outputs": [
    {
     "name": "stdin",
     "output_type": "stream",
     "text": [
      "enter a Text: hello world\n"
     ]
    },
    {
     "name": "stdout",
     "output_type": "stream",
     "text": [
      "d\n",
      "l\n"
     ]
    }
   ],
   "source": [
    "#(17) What are negative indexes and why are they used? \n",
    "\"\"\" Negative index allows you to access elements from the end of the list or string.\n",
    "The last element of string or list is Assigned as a -1 and so on from last to first (-1,-2,-3) so on.\n",
    "Negative indexes used because it can access the last eleemtns without calculating the full string or list.\"\"\"\n",
    "\n",
    "txt = input(\"enter a Text:\")\n",
    "print(txt[-1])\n",
    "print(txt[-2])\n",
    "\n"
   ]
  },
  {
   "cell_type": "code",
   "execution_count": 29,
   "id": "4a722382-8a5a-4827-901e-6253c973729a",
   "metadata": {},
   "outputs": [
    {
     "name": "stdin",
     "output_type": "stream",
     "text": [
      "Enter the string:  hello world\n",
      "Enter the substring:  python\n"
     ]
    },
    {
     "name": "stdout",
     "output_type": "stream",
     "text": [
      "0 times in the main string.\n"
     ]
    }
   ],
   "source": [
    "#(18) Write a Python program to count occurrences of a substring in a string.\n",
    "\n",
    "str = input(\"Enter the string: \")\n",
    "substr = input(\"Enter the substring: \")\n",
    "\n",
    "count = str.count(substr)\n",
    "\n",
    "print(count, \"times in the main string.\")\n"
   ]
  },
  {
   "cell_type": "code",
   "execution_count": 1,
   "id": "6fe15c5e-caf4-489f-adba-d7a4ca9e50a2",
   "metadata": {},
   "outputs": [
    {
     "name": "stdin",
     "output_type": "stream",
     "text": [
      "Enter Sentance:  hello hi i am python\n"
     ]
    },
    {
     "name": "stdout",
     "output_type": "stream",
     "text": [
      "{'hello': 1, 'hi': 1, 'i': 1, 'am': 1, 'python': 1}\n"
     ]
    }
   ],
   "source": [
    "#(19 Write a Python program to count the occurrences of each word in a given sentence\n",
    "\n",
    "a1 = input(\"Enter Sentance: \")\n",
    "words1 = a1.split()  \n",
    "count = {}  \n",
    "\n",
    "for word in words1:\n",
    "    if word in count:\n",
    "        count[word] += 1\n",
    "    else:\n",
    "        count[word] = 1 \n",
    "\n",
    "print(count)\n",
    "\n",
    "\n"
   ]
  },
  {
   "cell_type": "code",
   "execution_count": 30,
   "id": "f4472810-6765-404e-a819-0fcfc557db88",
   "metadata": {},
   "outputs": [
    {
     "name": "stdin",
     "output_type": "stream",
     "text": [
      "Enter the first string:  Hello\n",
      "Enter the second string:  world\n"
     ]
    },
    {
     "name": "stdout",
     "output_type": "stream",
     "text": [
      "wollo Herld\n"
     ]
    }
   ],
   "source": [
    "#(20) Write a Python program to get a single string from two given strings, separated by a space and swap the first two characters of each string. \n",
    "string1 = input(\"Enter the first string: \")\n",
    "string2 = input(\"Enter the second string: \")\n",
    "\n",
    "s1 = string2[:2] + string1[2:]\n",
    "s2 = string1[:2] + string2[2:]\n",
    "\n",
    "result = s1 + \" \" + s2\n",
    "print(result)\n",
    "\n"
   ]
  },
  {
   "cell_type": "code",
   "execution_count": 44,
   "id": "450deaed-3eab-4801-b38e-902d5ed5202b",
   "metadata": {},
   "outputs": [
    {
     "name": "stdin",
     "output_type": "stream",
     "text": [
      "Enter a word: inning\n"
     ]
    },
    {
     "name": "stdout",
     "output_type": "stream",
     "text": [
      "inningly\n"
     ]
    }
   ],
   "source": [
    "#(21) Write a Python program to add 'in' at the end of a given string (length should be at least 3). If the given string already ends with 'ing' then\n",
    "# add 'ly' instead if the string length of the given string is less than 3, leave it unchanged. '''\n",
    "\n",
    "w = input(\"Enter a word:\")\n",
    "if len(w) < 3:\n",
    "    result = w\n",
    "elif w.endswith(\"ing\"):\n",
    "    result= w + \"ly\"\n",
    "else:\n",
    "    result = w + \"ing\"\n",
    "print(result)\n",
    "    "
   ]
  },
  {
   "cell_type": "code",
   "execution_count": 45,
   "id": "0cd07a8d-452f-46a7-863a-694b9940954a",
   "metadata": {},
   "outputs": [
    {
     "name": "stdin",
     "output_type": "stream",
     "text": [
      "Enter a string:  hello python\n"
     ]
    },
    {
     "name": "stdout",
     "output_type": "stream",
     "text": [
      "Result: nohtyp olleh\n"
     ]
    }
   ],
   "source": [
    "#(22) Write a Python function to reverses a string if its length is a multiple of 4. \n",
    "\n",
    "r = input(\"Enter a string: \")\n",
    "\n",
    "if len(r) % 4 == 0:\n",
    "    r = r[::-1]\n",
    "\n",
    "print(\"Result:\", r)\n",
    "\n"
   ]
  },
  {
   "cell_type": "code",
   "execution_count": 47,
   "id": "23f1fa6d-a245-424d-8ace-11a5f100fe95",
   "metadata": {},
   "outputs": [
    {
     "name": "stdin",
     "output_type": "stream",
     "text": [
      "Enter a string:  Language python\n"
     ]
    },
    {
     "name": "stdout",
     "output_type": "stream",
     "text": [
      "Laon\n"
     ]
    }
   ],
   "source": [
    "#(23) Write a Python program to get a string made of the first 2 and the last 2 chars from a given a string. If the string length is less than 2, return\n",
    "# instead of the empty string. \n",
    "s1 = input(\"Enter a string: \")\n",
    "\n",
    "if len(s1) < 2:\n",
    "    result = \"\"\n",
    "else:\n",
    "    result = s1[:2] + s1[-2:]\n",
    "\n",
    "print(result)"
   ]
  },
  {
   "cell_type": "code",
   "execution_count": 49,
   "id": "7499b182-3607-4898-8097-daaffcc1e782",
   "metadata": {},
   "outputs": [
    {
     "name": "stdin",
     "output_type": "stream",
     "text": [
      "Enter the original string:  hello \n",
      "Enter the string to insert:  world\n"
     ]
    },
    {
     "name": "stdout",
     "output_type": "stream",
     "text": [
      "helworldlo \n"
     ]
    }
   ],
   "source": [
    "#(24) Write a Python function to insert a string in the middle of a string.\n",
    "a = input(\"Enter the original string: \")\n",
    "b = input(\"Enter the string to insert: \")\n",
    "\n",
    "c = len(a) // 2\n",
    "r = a[:c] + b + a[c:]\n",
    "\n",
    "print(r)"
   ]
  },
  {
   "cell_type": "code",
   "execution_count": 31,
   "id": "e5c3d634-b2ed-4cab-9aa0-930d1117df38",
   "metadata": {},
   "outputs": [
    {
     "name": "stdout",
     "output_type": "stream",
     "text": [
      "[6, 5, 4, 3, 2, 1]\n"
     ]
    }
   ],
   "source": [
    "#(25) What is List? How will you reverse a list?\n",
    "\"\"\" lists are used to store multiple items in a single variable. lists are created using square brackets.\"\"\"\n",
    "\n",
    "list = [1,2,3,4,5,6]\n",
    "list.reverse()\n",
    "print(list)"
   ]
  },
  {
   "cell_type": "code",
   "execution_count": 34,
   "id": "86eee8a9-f2bf-476c-8cb2-d9241d16fd38",
   "metadata": {},
   "outputs": [
    {
     "name": "stdout",
     "output_type": "stream",
     "text": [
      "['ravi', 'keval', 'raja']\n"
     ]
    }
   ],
   "source": [
    "#(26) How will you remove last object from a list?\n",
    "\n",
    "name = [\"ravi\", \"keval\", \"raja\", \"Summet\"]\n",
    "name.pop()\n",
    "print(name)"
   ]
  },
  {
   "cell_type": "code",
   "execution_count": null,
   "id": "107fd07f-db90-455a-9f1f-ce642ccb9990",
   "metadata": {},
   "outputs": [],
   "source": [
    "#(27) Suppose list1 is [2, 33, 222, 14, and 25], what is list1 [-1]? \n",
    "\"\"\" Ans:25 \"\"\""
   ]
  },
  {
   "cell_type": "code",
   "execution_count": null,
   "id": "4b237e21-f07c-476c-aca8-579a998d01fa",
   "metadata": {},
   "outputs": [],
   "source": [
    "#(28) Differentiate between append () and extend () methods? \n",
    "\"\"\" append is only adds an element to the end of the list.\n",
    "in extend method we can add elements to the specific iterable or to the end of the current list.\"\"\""
   ]
  },
  {
   "cell_type": "code",
   "execution_count": 2,
   "id": "2ca5298f-df7c-4612-9737-3cdb969b4022",
   "metadata": {},
   "outputs": [
    {
     "name": "stdout",
     "output_type": "stream",
     "text": [
      "largest number : 64\n",
      "smallest number : 20\n",
      "Sum of all numbers: 226\n"
     ]
    }
   ],
   "source": [
    "#(29) Write a Python function to get the largest number, smallest num and sum of all from a list. \n",
    "\n",
    "lst = [20,35,37,46,24,64]\n",
    "\n",
    "lge = max(lst)\n",
    "smal = min(lst)\n",
    "total = sum(lst)\n",
    "\n",
    "print(\"largest number :\" ,lge)\n",
    "print(\"smallest number :\", smal)\n",
    "print(\"Sum of all numbers:\",total)"
   ]
  },
  {
   "cell_type": "code",
   "execution_count": 35,
   "id": "34666b5d-a1a9-4aa3-b0c6-83a2356414b8",
   "metadata": {},
   "outputs": [
    {
     "name": "stdout",
     "output_type": "stream",
     "text": [
      "list is equal:\n"
     ]
    }
   ],
   "source": [
    "#(30)How will you compare two lists?\n",
    "list1 = [1,2,3,4,5]\n",
    "list2 = [1,2,3,4,5]\n",
    "\n",
    "if list1 == list2:\n",
    "    print(\"list is equal:\")\n",
    "else:\n",
    "    print(\"list is not equal:\")\n"
   ]
  },
  {
   "cell_type": "code",
   "execution_count": 4,
   "id": "4d7a10e8-73ca-4956-804d-114a83484114",
   "metadata": {},
   "outputs": [
    {
     "name": "stdout",
     "output_type": "stream",
     "text": [
      "result: 1\n"
     ]
    }
   ],
   "source": [
    "#(31) Write a Python program to count the number of strings where the string length is 2 or more and the first and last character are same from a\n",
    "#given list of strings.\n",
    "\n",
    "string = ['rvh', 'rvh', 'zmo', 'b', 'cdf', 'gtr', 'vv']\n",
    "count = 0\n",
    "for s in string:\n",
    "    if len(s) >= 2 and s[0] == s[-1]:\n",
    "        count += 1\n",
    "print(\"result:\",count)"
   ]
  },
  {
   "cell_type": "code",
   "execution_count": 72,
   "id": "b9a3a55e-b876-4b3d-a78e-7a588c2b2be4",
   "metadata": {},
   "outputs": [
    {
     "name": "stdout",
     "output_type": "stream",
     "text": [
      "with the duplicate:  [1, 1, 2, 2, 3, 4]\n",
      "without the duplicate:  {1, 2, 3, 4}\n"
     ]
    }
   ],
   "source": [
    "#(32)Write a Python program to remove duplicates from a list.\n",
    "\n",
    "list1 = [1,1,2,2,3,4]\n",
    "sett = set(list1)\n",
    "list2 = sett\n",
    "print(\"with the duplicate: \",list1)\n",
    "print(\"without the duplicate: \",list2)"
   ]
  },
  {
   "cell_type": "code",
   "execution_count": 38,
   "id": "a9ca7203-38b8-4db0-850c-f04f94e2b04a",
   "metadata": {},
   "outputs": [
    {
     "name": "stdout",
     "output_type": "stream",
     "text": [
      "List is empty.\n"
     ]
    }
   ],
   "source": [
    "#(33)Write a Python program to check a list is empty or not\n",
    "\n",
    "list1 = [ ]\n",
    "\n",
    "if len(list1) == 0:\n",
    "    print(\"List is empty.\")\n",
    "else:\n",
    "    print(\"list have data. list=\",list1)"
   ]
  },
  {
   "cell_type": "code",
   "execution_count": 55,
   "id": "2a6a7ab0-e9f9-4cc3-8654-3d61cca98d89",
   "metadata": {},
   "outputs": [
    {
     "name": "stdout",
     "output_type": "stream",
     "text": [
      "True\n"
     ]
    }
   ],
   "source": [
    "#(34) Write a Python function that takes two lists and returns true if they have at least one common member. \n",
    "list1=[1,2,3]\n",
    "list2=[3,6,6]\n",
    "\n",
    "result = 0\n",
    "for i in list1:\n",
    "    if i in list2:\n",
    "        result = True\n",
    "        break\n",
    "    else:\n",
    "        result = False\n",
    "\n",
    "print(result)"
   ]
  },
  {
   "cell_type": "code",
   "execution_count": 56,
   "id": "0f571b36-92c0-4e6a-936d-dc4ed0994f4a",
   "metadata": {},
   "outputs": [
    {
     "name": "stdout",
     "output_type": "stream",
     "text": [
      "[1, 4, 9, 16, 25, 676, 729, 784, 841, 900]\n"
     ]
    }
   ],
   "source": [
    "#(35) Write a Python program to generate and print a list of first and last 5 elements where the values are square of numbers between 1 and 30.\n",
    "l = [i**2 for i in range(1,31)]\n",
    "print(l[:5]+l[-5:])"
   ]
  },
  {
   "cell_type": "code",
   "execution_count": 4,
   "id": "f62f4e65-ed1a-439e-b155-dd0c20b4ecf0",
   "metadata": {},
   "outputs": [
    {
     "name": "stdout",
     "output_type": "stream",
     "text": [
      "Original list : [5, 5, 4, 7, 8, 8, 'b', 'x', 'x', 'y']\n",
      "unique list: [4, 5, 7, 8, 'x', 'b', 'y']\n"
     ]
    }
   ],
   "source": [
    "#(36) Write a Python function that takes a list and returns a new list with unique elements of the first list. \n",
    "\n",
    "lst = [5,5,4,7,8,8,\"b\",\"x\",\"x\",\"y\"]\n",
    "sett1 = set(lst)\n",
    "sett1 = list(sett1)\n",
    "#print(sett1)\n",
    "\n",
    "print(\"Original list :\", lst)\n",
    "print(\"unique list:\", sett1)\n",
    "\n"
   ]
  },
  {
   "cell_type": "code",
   "execution_count": 57,
   "id": "3cc3d3c6-b340-4c6b-a64a-8a8fee8dd221",
   "metadata": {},
   "outputs": [
    {
     "name": "stdout",
     "output_type": "stream",
     "text": [
      "apple banana Grapes\n"
     ]
    }
   ],
   "source": [
    "#(37)Write a Python program to convert a list of characters into a string. \n",
    "a = ['apple', 'banana', 'Grapes']\n",
    "res = ' '.join(a)\n",
    "print(res)"
   ]
  },
  {
   "cell_type": "code",
   "execution_count": 58,
   "id": "fc220a4e-1ad8-4fdd-a87e-9eb1a20be55d",
   "metadata": {},
   "outputs": [
    {
     "name": "stdout",
     "output_type": "stream",
     "text": [
      "random item 1\n"
     ]
    }
   ],
   "source": [
    "#(38)Write a Python program to select an item randomly from a list. \n",
    "\n",
    "list1=[1,2,3,4,5,\"a\",\"b\"]\n",
    "sett = set(list1)\n",
    "for i in sett:\n",
    "    print(\"random item\",i)\n",
    "    break"
   ]
  },
  {
   "cell_type": "code",
   "execution_count": 59,
   "id": "ac6438bf-8203-4126-94cf-a7cfeacda7f9",
   "metadata": {},
   "outputs": [
    {
     "name": "stdout",
     "output_type": "stream",
     "text": [
      "2\n"
     ]
    }
   ],
   "source": [
    "#(39)Write a Python program to find the second smallest number in a list. \n",
    "\n",
    "list1=[1,2,3,4,5,6]\n",
    "list1.remove(min(list1))\n",
    "print(min(list1))\n"
   ]
  },
  {
   "cell_type": "code",
   "execution_count": 5,
   "id": "8825ef7e-ce3c-423b-bff3-5cca84cde3eb",
   "metadata": {},
   "outputs": [
    {
     "name": "stdout",
     "output_type": "stream",
     "text": [
      "Original list : [5, 5, 4, 7, 8, 8, 'b', 'x', 'x', 'y']\n",
      "unique list: [4, 5, 7, 8, 'x', 'b', 'y']\n"
     ]
    }
   ],
   "source": [
    "#(40)Write a Python program to get unique values from a list \n",
    "lst = [5,5,4,7,8,8,\"b\",\"x\",\"x\",\"y\"]\n",
    "sett1 = set(lst)\n",
    "sett1 = list(sett1)\n",
    "#print(sett1)\n",
    "\n",
    "print(\"Original list :\", lst)\n",
    "print(\"unique list:\", sett1)\n",
    "\n"
   ]
  },
  {
   "cell_type": "code",
   "execution_count": 21,
   "id": "5db5722c-80b8-4f27-a12d-7591decaab2f",
   "metadata": {},
   "outputs": [
    {
     "name": "stdout",
     "output_type": "stream",
     "text": [
      "Sublist Found\n"
     ]
    }
   ],
   "source": [
    "#(41)Write a Python program to check whether a list contains a sub list\n",
    "orig = [1, 2, 3, 4, 5, 6]\n",
    "subl = [3, 4, 5]\n",
    "\n",
    "for i in range(len(orig) - len(subl) + 1):\n",
    "    if orig[i:i + len(subl)] == subl:\n",
    "        print(\"Sublist is Found\")\n",
    "        break\n",
    "else:\n",
    "    print(\"Sublist not found!\")"
   ]
  },
  {
   "cell_type": "code",
   "execution_count": 77,
   "id": "8c41532a-f498-4154-a437-faac9c3cc8ed",
   "metadata": {},
   "outputs": [
    {
     "name": "stdout",
     "output_type": "stream",
     "text": [
      "6\n",
      "5\n",
      "4\n",
      "3\n",
      "2\n"
     ]
    }
   ],
   "source": [
    "#(42)Write a Python program to split a list into different variables.\n",
    "\n",
    "my_list = [6, 5, 4, 3, 2]\n",
    "\n",
    "a, b, c, d, e = my_list\n",
    "\n",
    "print(a)  # Output: 1\n",
    "print(b)  # Output: 2\n",
    "print(c)  # Output: 3\n",
    "print(d)  # Output: 4\n",
    "print(e)  # Output: 5\n"
   ]
  },
  {
   "cell_type": "code",
   "execution_count": null,
   "id": "3b6b3e46-097c-4877-b486-8219491d397d",
   "metadata": {},
   "outputs": [],
   "source": [
    "#(43)What is tuple? Difference between list and tuple. \n",
    "\"\"\" Tuple is one of 4 built in data types in python used to store collections of data.A list is collection of ordered elements. \n",
    "A tuple is a sequence of elements seperated by commas and enclosed in parentheses.\"\"\""
   ]
  },
  {
   "cell_type": "code",
   "execution_count": 63,
   "id": "b98b8aae-ccec-482b-a2ec-e6e1a4da1e1c",
   "metadata": {},
   "outputs": [
    {
     "name": "stdout",
     "output_type": "stream",
     "text": [
      "(1, 2, 3, 'hi', 'maninagar', 'branch', [1, 2, 3])\n"
     ]
    }
   ],
   "source": [
    "#(44)Write a Python program to create a tuple with different data types.\n",
    "\n",
    "tup = (1,2,3,\"hi\",\"maninagar\",\"branch\",[1,2,3])\n",
    "print(tup)"
   ]
  },
  {
   "cell_type": "code",
   "execution_count": null,
   "id": "002787e1-e9a7-4eda-ba71-bc23bc407960",
   "metadata": {},
   "outputs": [],
   "source": [
    "#(45)Write a Python program to unzip a list of tuples into individual lists. \n",
    "\"\"\" unzip\"\"\""
   ]
  },
  {
   "cell_type": "code",
   "execution_count": 16,
   "id": "5326fa70-725e-4041-9b2f-a6301c9a561f",
   "metadata": {},
   "outputs": [
    {
     "name": "stdout",
     "output_type": "stream",
     "text": [
      "{'l': 1, 'm': 2, 'n': 3}\n"
     ]
    }
   ],
   "source": [
    "#(46)Write a Python program to convert a list of tuples into a dictionary. \n",
    "\n",
    "tuples_list = [('l', 1), ('m', 2), ('n', 3)]\n",
    "\n",
    "dict = dict(tuples_list)\n",
    "\n",
    "print(dict)\n"
   ]
  },
  {
   "cell_type": "code",
   "execution_count": 67,
   "id": "40d67adf-b3eb-4834-b53b-507a74198f48",
   "metadata": {},
   "outputs": [
    {
     "name": "stdout",
     "output_type": "stream",
     "text": [
      "{'value1': 'example1', 'value2': 'example2'}\n"
     ]
    }
   ],
   "source": [
    "#(47)How will you create a dictionary using tuples in python? \n",
    "my_tuple = (('value1', 'example1'),('value2','example2'))\n",
    "my_dict=dict(my_tuple)\n",
    "print(my_dict)"
   ]
  },
  {
   "cell_type": "code",
   "execution_count": 9,
   "id": "00550721-6671-43eb-a0c1-4b99942c3e40",
   "metadata": {},
   "outputs": [
    {
     "name": "stdout",
     "output_type": "stream",
     "text": [
      "ascending: ['a', 'b', 'c', 'd', 'e', 'f']\n",
      "descending: ['f', 'e', 'd', 'c', 'b', 'a']\n"
     ]
    }
   ],
   "source": [
    "#(48)Write a Python script to sort (ascending and descending) a dictionary by value. \n",
    "\n",
    "dict1 = {'a':'a','b':'b','e':'e','f':'f','c':'c','d':'d'}\n",
    "y = list(dict1.values())\n",
    "y.sort()\n",
    "print(\"ascending:\", y)\n",
    "y.sort(reverse = True)\n",
    "print(\"descending:\",y)\n"
   ]
  },
  {
   "cell_type": "code",
   "execution_count": 10,
   "id": "86e5d449-168e-4098-8f51-4e06e5dccf27",
   "metadata": {},
   "outputs": [
    {
     "name": "stdout",
     "output_type": "stream",
     "text": [
      "new dictionary: {'x': 5, 'y': 6, 'a': 8, 'c': 9, 'b': 3, 'e': 4}\n"
     ]
    }
   ],
   "source": [
    "#(49)Write a Python script to concatenate following dictionaries to create a new one. \n",
    "\n",
    "dict1 = {'x': 5, 'y':6}\n",
    "dict2 = {'a': 8, 'c':9}\n",
    "dict3 = {'b':3, 'e':4}\n",
    "\n",
    "ydict=dict1.copy()\n",
    "\n",
    "ydict.update(dict2)\n",
    "ydict.update(dict3)\n",
    "\n",
    "print(\"new dictionary:\", ydict)\n"
   ]
  },
  {
   "cell_type": "code",
   "execution_count": 13,
   "id": "c4b59483-1f31-48f0-a3ec-7c89b55f6706",
   "metadata": {},
   "outputs": [
    {
     "name": "stdin",
     "output_type": "stream",
     "text": [
      "enter key: banana\n"
     ]
    },
    {
     "name": "stdout",
     "output_type": "stream",
     "text": [
      "banana exists in the dicitonary:\n"
     ]
    }
   ],
   "source": [
    "#(50)Write a Python script to check if a given key already exists in a dictionary. \n",
    "\n",
    "dict = {'grapes' : 6 , 'banana': 7, 'rasberry': 8}\n",
    "\n",
    "key = input (\"enter key:\")\n",
    "\n",
    "if key in dict:\n",
    "    print(key,\"exists in the dicitonary:\")\n",
    "else:\n",
    "    print(key, \"not exists in the dicionary:\")"
   ]
  },
  {
   "cell_type": "code",
   "execution_count": 14,
   "id": "057528a9-30b8-4248-be10-49dd77d33d9d",
   "metadata": {},
   "outputs": [
    {
     "name": "stdout",
     "output_type": "stream",
     "text": [
      "keys:\n",
      "name\n",
      "age\n",
      "state\n",
      "\n",
      " values:\n",
      "hello\n",
      "24\n",
      "GJ\n",
      "\n",
      " items:\n",
      "('name', 'hello')\n",
      "('age', 24)\n",
      "('state', 'GJ')\n"
     ]
    }
   ],
   "source": [
    "#(51)How Do You Traverse Through a Dictionary Object in Python? \n",
    "dict = {\"name\": \"hello\", \"age\" : 24, \"state\":\"GJ\"}\n",
    "\n",
    "print(\"keys:\")\n",
    "for key in dict.keys():\n",
    "    print(key)\n",
    "\n",
    "print(\"\\n values:\")\n",
    "for value in dict.values():\n",
    "    print(value)\n",
    "\n",
    "print(\"\\n items:\")\n",
    "for item in dict.items():\n",
    "    print(item)"
   ]
  },
  {
   "cell_type": "code",
   "execution_count": 15,
   "id": "f9e82f4e-083a-42da-8927-6941244dd815",
   "metadata": {},
   "outputs": [
    {
     "name": "stdin",
     "output_type": "stream",
     "text": [
      "input the value= g\n"
     ]
    },
    {
     "name": "stdout",
     "output_type": "stream",
     "text": [
      "key is not present in dict:\n"
     ]
    }
   ],
   "source": [
    "#(52)How Do You Check the Presence of a Key in A Dictionary? \n",
    "\n",
    "dict = {'f':6, 'c':3, 'd':9}\n",
    "\n",
    "c = input (\"input the value=\")\n",
    "\n",
    "if c in dict:\n",
    "    print(\"key is present in dict.\")\n",
    "    \n",
    "else:\n",
    "    print(\"key is not present in dict:\")"
   ]
  },
  {
   "cell_type": "code",
   "execution_count": 19,
   "id": "f727a85a-f97b-481d-8dd1-20207cebb5ed",
   "metadata": {},
   "outputs": [
    {
     "name": "stdout",
     "output_type": "stream",
     "text": [
      "{1: '*', 2: '*', 3: '*', 4: '*', 5: '*', 6: '*', 7: '*', 8: '*', 9: '*', 10: '*', 11: '*', 12: '*', 13: '*', 14: '*', 15: '*'}\n"
     ]
    }
   ],
   "source": [
    "#(53)Write a Python script to print a dictionary where the keys are numbers between 1 and 15. \n",
    "\n",
    "dict1 = {}\n",
    "\n",
    "for key in range(1,16):\n",
    "    dict1[key] = '*'\n",
    "print(dict1)\n",
    "\n",
    "\n"
   ]
  },
  {
   "cell_type": "code",
   "execution_count": 20,
   "id": "f8c72fed-72d0-44a5-99fa-2b8be18dbefd",
   "metadata": {},
   "outputs": [
    {
     "name": "stdout",
     "output_type": "stream",
     "text": [
      "All keys are existed in the dictionary:\n"
     ]
    }
   ],
   "source": [
    "#(54)Write a Python program to check multiple keys exists in a dictionary\n",
    "\n",
    "dictt = {'l':4, 'm':6, 'o':7, 'p':8}\n",
    "\n",
    "keys = ['l','m','o','p']\n",
    "\n",
    "if all(k in dictt for k in keys):\n",
    "    print(\"All keys are existed in the dictionary:\")\n",
    "else:\n",
    "    print(\"All keys are not existed in the dictionary:\")"
   ]
  },
  {
   "cell_type": "code",
   "execution_count": 71,
   "id": "962d6f24-6bdc-4b68-a729-9e56e5ce86a7",
   "metadata": {},
   "outputs": [
    {
     "name": "stdout",
     "output_type": "stream",
     "text": [
      "None\n",
      "{'c', 1, 2, 4, 6, 'b', 'd', 'a'}\n"
     ]
    }
   ],
   "source": [
    "#(55)Write a Python script to merge two Python dictionaries \n",
    "def merge(dict1, dict2):\n",
    "    return (dict2.update(dict1))\n",
    "\n",
    "dict1 = {'a','b', 4, 6}\n",
    "dict2 ={'c','d',1,2}\n",
    "print(merge(dict1,dict2))\n",
    "print(dict2)"
   ]
  },
  {
   "cell_type": "code",
   "execution_count": 3,
   "id": "beffc722-bb08-4a49-b882-aef8fc9a879c",
   "metadata": {},
   "outputs": [
    {
     "name": "stdout",
     "output_type": "stream",
     "text": [
      "{'a': 400, 'b': 400, 'd': 400, 'c': 300}\n"
     ]
    }
   ],
   "source": [
    "#(56)Write a Python program to map two lists into a dictionary \n",
    "#Sample output: Counter ({'a': 400, 'b': 400,’d’: 400, 'c': 300}). \n",
    "\n",
    "key = ['a','b','d','c']\n",
    "values = [400,400,400,300]\n",
    "dictt1 = {}\n",
    "\n",
    "for i in range(len(key)):\n",
    "    dictt1[key[i]] = values[i]\n",
    "\n",
    "print(dictt1)"
   ]
  },
  {
   "cell_type": "code",
   "execution_count": 23,
   "id": "b38d7c8d-6d2a-44c4-a35c-9895da0c6328",
   "metadata": {},
   "outputs": [
    {
     "name": "stdout",
     "output_type": "stream",
     "text": [
      "three highest values: [450, 323, 240]\n"
     ]
    }
   ],
   "source": [
    "#(57)Write a Python program to find the highest 3 values in a dictionary \n",
    "\n",
    "dict1 = {'a':10, 'b':46, 'c':323, 'd':450, 'e':240}\n",
    "a= list(dict1.values())\n",
    "a.sort(reverse=True)\n",
    "print(\"three highest values:\", a[:3])"
   ]
  },
  {
   "cell_type": "code",
   "execution_count": 6,
   "id": "82c02bbd-c811-47a8-809c-6fbaa23f2530",
   "metadata": {},
   "outputs": [
    {
     "name": "stdout",
     "output_type": "stream",
     "text": [
      "{'item1': 1150, 'item2': 300}\n"
     ]
    }
   ],
   "source": [
    "#(58)Write a Python program to combine values in python list of dictionaries.\n",
    "#Sample data: [{'item': 'item1', 'amount': 400}, {'item': 'item2', 'amount':300}, o {'item': 'item1', 'amount': 750}]\n",
    "#Expected Output: Counter ({'item1': 1150, 'item2': 300})\n",
    "data = [\n",
    "    {'item': 'item1', 'amount': 400},\n",
    "    {'item': 'item2', 'amount': 300},\n",
    "    {'item': 'item1', 'amount': 750}\n",
    "]\n",
    "\n",
    "dictt = {}\n",
    "\n",
    "for i in data:\n",
    "    items = i[\"item\"]\n",
    "    amount = i[\"amount\"]\n",
    "    \n",
    "    if items in dictt:\n",
    "        dictt[items] += amount\n",
    "    else:\n",
    "        dictt[items] = amount\n",
    "\n",
    "print(dictt)\n"
   ]
  },
  {
   "cell_type": "code",
   "execution_count": 68,
   "id": "075ae68e-c662-4a38-941b-54852a0efec9",
   "metadata": {},
   "outputs": [
    {
     "name": "stdout",
     "output_type": "stream",
     "text": [
      "{'h': 1, 'e': 1, 'l': 3, 'o': 2, ' ': 1, 'w': 1, 'r': 1, 'd': 1}\n"
     ]
    }
   ],
   "source": [
    "#(59)Write a Python program to create a dictionary from a string.\n",
    "#Note: Track the count of the letters from the string. \n",
    "\n",
    "input_string = \"hello world\"\n",
    "\n",
    "char_count = {}\n",
    "\n",
    "for char in input_string:\n",
    "    if char in char_count:\n",
    "        char_count[char] += 1\n",
    "    else:\n",
    "        char_count[char] = 1\n",
    "\n",
    "print(char_count)\n"
   ]
  },
  {
   "cell_type": "code",
   "execution_count": 47,
   "id": "67a8766c-07f7-490d-ba96-779ee48ed133",
   "metadata": {},
   "outputs": [
    {
     "name": "stdout",
     "output_type": "stream",
     "text": [
      "{'w': 1, '3': 1, 'r': 2, 'e': 2, 's': 2, 'o': 1, 'u': 1, 'c': 1}\n"
     ]
    }
   ],
   "source": [
    "#(60)Sample string:\n",
    "# 'w3resource' Expected output: • {'3': 1,’s’: 1, 'r': 2, 'u': 1, 'w': 1, 'c': 1, 'e': 2, 'o': 1}\n",
    "input_string = \"w3resources\"\n",
    "\n",
    "char_count = {}\n",
    "\n",
    "for char in input_string:\n",
    "    if char in char_count:\n",
    "        char_count[char] += 1\n",
    "    else:\n",
    "        char_count[char] = 1\n",
    "\n",
    "print(char_count)"
   ]
  },
  {
   "cell_type": "code",
   "execution_count": 24,
   "id": "3c2299b4-84e3-4c40-b8bd-8f84f84bec2c",
   "metadata": {},
   "outputs": [
    {
     "name": "stdin",
     "output_type": "stream",
     "text": [
      "enter a number: 6\n"
     ]
    },
    {
     "name": "stdout",
     "output_type": "stream",
     "text": [
      "720\n"
     ]
    }
   ],
   "source": [
    "#(61)Write a Python function to calculate the factorial of a number (anonnegative integer) \n",
    "\n",
    "def f(b):\n",
    "    result = 1 \n",
    "    for i in range(1,b+1):\n",
    "        result *= i\n",
    "    return result\n",
    "print(f(int(input(\"enter a number:\"))))"
   ]
  },
  {
   "cell_type": "code",
   "execution_count": 25,
   "id": "94ea4125-5a1e-4cf3-b5ca-740b8e56a0d4",
   "metadata": {},
   "outputs": [
    {
     "name": "stdin",
     "output_type": "stream",
     "text": [
      "enter a starting number: 45\n",
      "enter a ending number: 65\n",
      "enter a Number to check: 26\n"
     ]
    },
    {
     "name": "stdout",
     "output_type": "stream",
     "text": [
      "False\n"
     ]
    }
   ],
   "source": [
    "#(62)Write a Python function to check whether a number is in a given range \n",
    "\n",
    "def rnge(number , start, end):\n",
    "    return start<= number <= end\n",
    "\n",
    "start  = int(input(\"enter a starting number:\"))\n",
    "end = int(input(\"enter a ending number:\"))\n",
    "number = int(input(\"enter a Number to check:\"))\n",
    "\n",
    "print(rnge(start,end,number))"
   ]
  },
  {
   "cell_type": "code",
   "execution_count": 30,
   "id": "4d96de80-77f1-42a1-8e96-a0d641992711",
   "metadata": {},
   "outputs": [
    {
     "name": "stdin",
     "output_type": "stream",
     "text": [
      "enter a number  6\n"
     ]
    },
    {
     "name": "stdout",
     "output_type": "stream",
     "text": [
      "6 is a perfect number:\n"
     ]
    }
   ],
   "source": [
    "#(63)Write a Python function to check whether a number is perfect or not. \n",
    "\n",
    "def pnumber(num):\n",
    "    div = 0\n",
    "    for i in range(1, num):\n",
    "        if num % i == 0:\n",
    "            div += i\n",
    "    return div == num\n",
    "num1 = int(input(\"enter a number \"))\n",
    "\n",
    "if pnumber(num1):\n",
    "    print(f\"{num1} is a perfect number:\")\n",
    "else:\n",
    "    print(f\"{num1} is not a perfect number:\")\n"
   ]
  },
  {
   "cell_type": "code",
   "execution_count": 35,
   "id": "ccc38621-67d4-4327-a0dd-4c1aca28b420",
   "metadata": {},
   "outputs": [
    {
     "name": "stdin",
     "output_type": "stream",
     "text": [
      "enter a string: madam\n"
     ]
    },
    {
     "name": "stdout",
     "output_type": "stream",
     "text": [
      "madam is a palindrome.\n"
     ]
    }
   ],
   "source": [
    "#(64)Write a Python function that checks whether a passed string is palindrome or not \n",
    "\n",
    "def palindrome(t):\n",
    "    return t == t[::-1]\n",
    "\n",
    "a1 = input(\"enter a string:\")\n",
    "\n",
    "if palindrome(a1):\n",
    "    print(f\"{a1} is a palindrome.\")\n",
    "else:\n",
    "    print(f\"{a1} is not a palindrome.\")"
   ]
  },
  {
   "cell_type": "code",
   "execution_count": null,
   "id": "1d50dbc1-bc64-4539-b102-f4b300690b25",
   "metadata": {},
   "outputs": [],
   "source": [
    "#(65)How Many Basic Types of Functions Are Available in Python? \n",
    "\n",
    "\"\"\"\n",
    "There are many functions  available in python.\n",
    "a)user defind functions : functions we create.\n",
    "b) lambada function : small, anonymous functions.\n",
    "c) Recursive functions : Functions that call themselsves\n",
    "\"\"\""
   ]
  },
  {
   "cell_type": "code",
   "execution_count": 36,
   "id": "8745ae5b-fdfd-4cc0-9758-b1885c1e5354",
   "metadata": {},
   "outputs": [
    {
     "name": "stdout",
     "output_type": "stream",
     "text": [
      "Random item from list = 2\n"
     ]
    }
   ],
   "source": [
    "#(66)How can you pick a random item from a list or tuple?\n",
    "\n",
    "listt = ['a','b','c','d',2, 3]\n",
    "\n",
    "list = set(listt)\n",
    "for i in list:\n",
    "    print(\"Random item from list =\", i)\n",
    "    break\n",
    "    "
   ]
  },
  {
   "cell_type": "code",
   "execution_count": 37,
   "id": "e19baa99-f4d5-4b7a-bfbe-e299a5400700",
   "metadata": {},
   "outputs": [
    {
     "name": "stdout",
     "output_type": "stream",
     "text": [
      "Random item from tupple = 3\n"
     ]
    }
   ],
   "source": [
    "#(66)How can you pick a random item from a list or tuple?\n",
    "\n",
    "tup = ('x','y','z', 6,5,4,3)\n",
    "tupp = set(tup)\n",
    "for i in tupp:\n",
    "    print(\"Random item from tupple =\", i)\n",
    "    break\n"
   ]
  },
  {
   "cell_type": "code",
   "execution_count": 38,
   "id": "969bac90-11d2-47b8-8f2a-61075c1b98ef",
   "metadata": {},
   "outputs": [
    {
     "name": "stdout",
     "output_type": "stream",
     "text": [
      "-37\n"
     ]
    }
   ],
   "source": [
    "#(67)How can you pick a random item from a range? \n",
    "\n",
    "import random\n",
    "\n",
    "r = random.randrange(-50,50)\n",
    "print(r)"
   ]
  },
  {
   "cell_type": "code",
   "execution_count": 41,
   "id": "277f3b60-ae12-4b7f-b76f-44433a753f2f",
   "metadata": {},
   "outputs": [
    {
     "name": "stdout",
     "output_type": "stream",
     "text": [
      "0.6821029833651197\n"
     ]
    }
   ],
   "source": [
    "#(68)How can you get a random number in python?\n",
    "import random\n",
    "\n",
    "r1 = random.random()\n",
    "print(r1)"
   ]
  },
  {
   "cell_type": "code",
   "execution_count": 44,
   "id": "1fcfeeb0-eb5c-41d0-a3ef-e7f9de844083",
   "metadata": {},
   "outputs": [
    {
     "name": "stdin",
     "output_type": "stream",
     "text": [
      "Enter the strating number : 4\n",
      "Enter the ending number : 13\n"
     ]
    },
    {
     "name": "stdout",
     "output_type": "stream",
     "text": [
      "5\n"
     ]
    }
   ],
   "source": [
    "#(69)How will you set the starting value in generating random numbers?\n",
    "import random\n",
    "\n",
    "x = int(input(\"Enter the strating number :\"))\n",
    "y = int(input(\"Enter the ending number :\"))\n",
    "\n",
    "r2 = random.randrange(x,y)\n",
    "print(r2)"
   ]
  },
  {
   "cell_type": "code",
   "execution_count": 45,
   "id": "695855d9-a020-4440-8223-03cd63728a53",
   "metadata": {},
   "outputs": [
    {
     "name": "stdout",
     "output_type": "stream",
     "text": [
      "Main list : [9, 7, 6, 5, 8, 3, 2, 1]\n",
      "After randomize: [7, 6, 3, 5, 9, 2, 1, 8]\n"
     ]
    }
   ],
   "source": [
    "#(70) How will you randomize the items of a list in place? \n",
    "\n",
    "list = [9,7,6,5,8,3,2,1]\n",
    "\n",
    "print(\"Main list :\", list)\n",
    "\n",
    "random.shuffle(list)\n",
    "\n",
    "print(\"After randomize:\", list)"
   ]
  },
  {
   "cell_type": "code",
   "execution_count": null,
   "id": "45c53c6c-85d3-4d1a-82cf-c7b324518294",
   "metadata": {},
   "outputs": [],
   "source": [
    "#(71)What is File function in python? What are keywords to create and write file. \n",
    "\n",
    "\"\"\"\n",
    "Ans:In python file function is part of a web application.\n",
    "there are several keywords to create and write a file . To create a file keyword is 'x' and for write file is 'w'.\n",
    "\"\"\"\n"
   ]
  },
  {
   "cell_type": "code",
   "execution_count": 7,
   "id": "59a3826d-7b04-4f49-85d0-36d1a57781d2",
   "metadata": {
    "scrolled": true
   },
   "outputs": [
    {
     "name": "stdout",
     "output_type": "stream",
     "text": [
      "Hello I am learning Python language .\n"
     ]
    }
   ],
   "source": [
    "#(72)Write a Python program to read an entire text file. \n",
    "\n",
    "s = open(\"Demofile.txt\", \"r\" )\n",
    "print(s.read())\n"
   ]
  },
  {
   "cell_type": "code",
   "execution_count": 13,
   "id": "6fc6d027-232e-4ff0-9084-245a14dcb5c3",
   "metadata": {},
   "outputs": [
    {
     "name": "stdout",
     "output_type": "stream",
     "text": [
      "Hello I am learning Python language .\n",
      "Python is a easy to use language.Python is a easy to use language\n"
     ]
    }
   ],
   "source": [
    "#(73)Write a Python program to append text to a file and display the text. \n",
    "\n",
    "a = open(\"Demofile.txt\",\"a\")\n",
    "a.write(\"Python is a easy to use language\")\n",
    "a.close()\n",
    "\n",
    "a = open(\"Demofile.txt\",\"r\")\n",
    "print(a.read())\n",
    "\n"
   ]
  },
  {
   "cell_type": "code",
   "execution_count": 14,
   "id": "51d59750-b532-4fe2-964b-a6495cf9bfd1",
   "metadata": {},
   "outputs": [
    {
     "name": "stdout",
     "output_type": "stream",
     "text": [
      "Hello I am learning Python language .\n",
      "\n"
     ]
    }
   ],
   "source": [
    "#(74)Write a Python program to read first n lines of a file. \n",
    "\n",
    "a = open(\"Demofile.txt\",\"r\")\n",
    "print(a.readline())\n",
    "\n"
   ]
  },
  {
   "cell_type": "code",
   "execution_count": 17,
   "id": "9dfec6cd-1003-443b-9573-4f28db2d1256",
   "metadata": {},
   "outputs": [
    {
     "name": "stdout",
     "output_type": "stream",
     "text": [
      "Python is a easy to use language\n"
     ]
    }
   ],
   "source": [
    "#(75)Write a Python program to read last n lines of a file. \n",
    "\n",
    "a = open(\"Demofile.txt\", \"r\")\n",
    "x= list(a.readlines())\n",
    "print(x[-1])\n",
    "\n",
    "\n"
   ]
  },
  {
   "cell_type": "code",
   "execution_count": 20,
   "id": "58c1c2d3-2c1f-4867-a4c3-0127f64e8444",
   "metadata": {},
   "outputs": [
    {
     "name": "stdout",
     "output_type": "stream",
     "text": [
      "list: ['Hello I am learning Python language .\\n', 'Python is a easy to use language.\\n', 'Python is a easy to use language']\n"
     ]
    }
   ],
   "source": [
    "#(76)Write a Python program to read a file line by line and store it into a list \n",
    "\n",
    "a = open(\"Demofile.txt\", \"r\")\n",
    "y = list(a.readlines())\n",
    "print(\"list:\",y)\n",
    "#for i in y:\n",
    " #   print(i"
   ]
  },
  {
   "cell_type": "code",
   "execution_count": 3,
   "id": "99f0b8fe-adb8-4cda-94b7-c7aaacf2f84c",
   "metadata": {},
   "outputs": [
    {
     "name": "stdout",
     "output_type": "stream",
     "text": [
      "['Hello I am learning Python language .', 'Python is a easy to use language.', 'Python is a easy to use language']\n"
     ]
    }
   ],
   "source": [
    "#(77)Write a Python program to read a file line by line store it into a variable. \n",
    "\n",
    "lst =[]\n",
    "\n",
    "s = open(\"Demofile.txt\", \"r\")\n",
    "\n",
    "for line in s:\n",
    "    lst.append(line.strip())\n",
    "print(lst)\n",
    "\n"
   ]
  },
  {
   "cell_type": "code",
   "execution_count": 10,
   "id": "a9f447b7-c7e0-44ad-89df-1dfac242905d",
   "metadata": {},
   "outputs": [
    {
     "data": {
      "text/plain": [
       "'languagessss'"
      ]
     },
     "execution_count": 10,
     "metadata": {},
     "output_type": "execute_result"
    }
   ],
   "source": [
    "#(78)Write a python program to find the longest words. \n",
    "\n",
    "s1 = open(\"Demofile.txt\", \"r\")\n",
    "ls1 = (s1.read())\n",
    "s2 = ls1.split()\n",
    "s2\n",
    "max1 = max(s2,key=len)\n",
    "max1"
   ]
  },
  {
   "cell_type": "code",
   "execution_count": 16,
   "id": "912c8f21-7034-4a7e-b805-edb9c035ce26",
   "metadata": {},
   "outputs": [
    {
     "data": {
      "text/plain": [
       "2"
      ]
     },
     "execution_count": 16,
     "metadata": {},
     "output_type": "execute_result"
    }
   ],
   "source": [
    "#(79)Write a Python program to count the number of lines in a text file. \n",
    "\n",
    "s3 = open(\"Demofile.txt\", \"r\")\n",
    "x2 = len(s3.readlines())\n",
    "x2\n"
   ]
  },
  {
   "cell_type": "code",
   "execution_count": 29,
   "id": "7aa16168-6e53-47e5-9441-4863817a8416",
   "metadata": {},
   "outputs": [
    {
     "name": "stdout",
     "output_type": "stream",
     "text": [
      "{'Hello': 1, 'I': 1, 'am': 1, 'learning': 1, 'Python': 3, 'languagessss': 1, '.': 1, 'is': 2, 'a': 2, 'easy': 2, 'to': 2, 'use': 2, 'language.': 1, 'language': 1}\n"
     ]
    },
    {
     "data": {
      "text/plain": [
       "['Hello',\n",
       " 'I',\n",
       " 'am',\n",
       " 'learning',\n",
       " 'Python',\n",
       " 'languagessss',\n",
       " '.',\n",
       " 'Python',\n",
       " 'is',\n",
       " 'a',\n",
       " 'easy',\n",
       " 'to',\n",
       " 'use',\n",
       " 'language.',\n",
       " 'Python',\n",
       " 'is',\n",
       " 'a',\n",
       " 'easy',\n",
       " 'to',\n",
       " 'use',\n",
       " 'language']"
      ]
     },
     "execution_count": 29,
     "metadata": {},
     "output_type": "execute_result"
    }
   ],
   "source": [
    "#(80)Write a Python program to count the frequency of words in a file. \n",
    "\n",
    "def countt(s4):\n",
    "    char_count = {}\n",
    "\n",
    "    for char in s4:\n",
    "        if char in char_count:\n",
    "            char_count[char] += 1\n",
    "        else:\n",
    "            char_count[char] = 1\n",
    "        \n",
    "    return char_count\n",
    "\n",
    "print(countt(s2))\n",
    "s2"
   ]
  },
  {
   "cell_type": "code",
   "execution_count": 1,
   "id": "a00a21a2-0290-4e1d-b3f6-d58d973a74ab",
   "metadata": {},
   "outputs": [
    {
     "name": "stdout",
     "output_type": "stream",
     "text": [
      "abc\tde\txz\tbc\tdef\ty\t\n"
     ]
    }
   ],
   "source": [
    "#(81)Write a Python program to write a list to a file. \n",
    "\n",
    "lst1=[\"abc\",\"de\",\"xz\",\"bc\",\"def\",\"y\"]\n",
    "\n",
    "a = open(\"demofile.txt\",\"w\")\n",
    "for i in lst1:\n",
    "    a.write(i+\"\\t\")\n",
    "a.close()\n",
    "\n",
    "a1 = open(\"demofile.txt\",\"r\")\n",
    "print(a1.read())"
   ]
  },
  {
   "cell_type": "code",
   "execution_count": 2,
   "id": "ae44e9a6-2b60-4ce3-8d41-94679d2cca14",
   "metadata": {},
   "outputs": [
    {
     "data": {
      "text/plain": [
       "19"
      ]
     },
     "execution_count": 2,
     "metadata": {},
     "output_type": "execute_result"
    }
   ],
   "source": [
    "#(82)Write a Python program to copy the contents of a file to another file\n",
    "\n",
    "pt1 = open(\"demofile.txt\", 'r') \n",
    "\n",
    "pt2 = open(\"copy.txt\",'w') \n",
    "\n",
    "pt2.write(pt1.read())"
   ]
  },
  {
   "cell_type": "code",
   "execution_count": null,
   "id": "4a292664-4e4f-4e1f-8211-04d73b22062e",
   "metadata": {},
   "outputs": [],
   "source": [
    "#(83)Explain Exception handling? What is an Error in Python?\n",
    "\"\"\" In Python, when an error occurs, Python will generate an error message , exceptions are assigned by try statement.  \n",
    "In Python, Errors are problems in a program that causes the program to stop its execution.\"\"\""
   ]
  },
  {
   "cell_type": "code",
   "execution_count": null,
   "id": "e8478cc3-4f68-497f-ab5c-1552f3434cca",
   "metadata": {},
   "outputs": [],
   "source": [
    "#(84)How many except statements can a try-except block have? Name Some built-in exception classes:\n",
    "\"\"\"\n",
    "A try-except block can have multiple except statements. \n",
    "You can use different except clauses to handle various exceptions, or combine them in one except statement using a tuple.\n",
    "Built-in Exception Classes:\n",
    "Python has many built-in exception classes, including:\n",
    "Exception – The base class for all exceptions.\n",
    "ValueError – Raised when a function gets a valid type but an incorrect value.\n",
    "IndexError – Raised when an invalid index is used in a list or tuple.\n",
    "KeyError – Raised when a dictionary key doesn't exist.\n",
    "TypeError – Raised when an operation is applied to an incorrect type.\n",
    "FileNotFoundError – Raised when a file cannot be found.\n",
    "AttributeError – Raised when an attribute reference fails.\n",
    "IOError – Raised for input/output issues (e.g., file reading errors).\n",
    "ImportError – Raised when an import fails.\n",
    "MemoryError – Raised when there is not enough memory to continue.\"\"\""
   ]
  },
  {
   "cell_type": "code",
   "execution_count": null,
   "id": "deeee011-3667-421d-9a6a-df2b9e6603c8",
   "metadata": {},
   "outputs": [],
   "source": [
    "#(85)When will the else part of try-except-else be executed? \n",
    "\"\"\"\n",
    "when the code inside the try block will run without giving any errors than Else part of the code will executed (run). If an exception occurs in\n",
    "try block than except bolck will be executed without touching the else part.\n",
    "\"\"\""
   ]
  },
  {
   "cell_type": "code",
   "execution_count": 1,
   "id": "07a19a8e-5b6c-4404-baca-464f9a640034",
   "metadata": {},
   "outputs": [
    {
     "name": "stdout",
     "output_type": "stream",
     "text": [
      "An error occurred: invalid literal for int() with base 10: 'hello'\n"
     ]
    }
   ],
   "source": [
    "#(86)Can one block of except statements handle multiple exception?\n",
    "\"\"\"\n",
    "Ans: Yes, one block of except statements can handle multiple exception in a tuple .\"\"\"\n",
    "\n",
    "try:\n",
    "    a = int(\"hello\")\n",
    "\n",
    "except (ValueError, TypeError) as b:\n",
    "\n",
    "    print(f\"An error occurred: {b}\")"
   ]
  },
  {
   "cell_type": "code",
   "execution_count": null,
   "id": "7c6a515d-fac6-4765-9252-a36700fc2b76",
   "metadata": {},
   "outputs": [],
   "source": [
    "#(87)When is the finally block executed? \n",
    "\"\"\"\n",
    "Ans:In Python language, the finally block is always executed, whether or not an exception is raised. \n",
    "It runs after the except and try blocks which is commonly used for cleanup tasks.\n",
    "\"\"\""
   ]
  },
  {
   "cell_type": "code",
   "execution_count": 3,
   "id": "7d77c9b2-c8a5-4f11-b6ce-42fa46830967",
   "metadata": {},
   "outputs": [
    {
     "name": "stdout",
     "output_type": "stream",
     "text": [
      "False\n"
     ]
    }
   ],
   "source": [
    "#(88)What happens when „1‟== 1 is executed?\n",
    "\"\"\"\n",
    "Ans: It will returns output as False.\n",
    " 1 assigns as a integar value and \"1\" will assigned as  a string.\n",
    " \"\"\"\n",
    "print(\"1\" == 1) \n",
    "\n"
   ]
  },
  {
   "cell_type": "code",
   "execution_count": 18,
   "id": "b8194777-1e8c-4575-ae38-ff2f10b401cb",
   "metadata": {},
   "outputs": [
    {
     "name": "stdout",
     "output_type": "stream",
     "text": [
      "I am learning Python\n",
      "The 'try except' is executed\n"
     ]
    }
   ],
   "source": [
    "#(89)How Do You Handle Exceptions with Try/Except/Finally in Python? Explain with coding snippets. \n",
    "\"\"\"\n",
    "ans: The try block lets you test a block of code for errors.\n",
    "The except block lets you handle the error.\n",
    "The finally block lets you execute code, regardless of the result of the try- and except blocks.\n",
    "\"\"\"\n",
    "try:\n",
    "  print(x)\n",
    "except:\n",
    "  print(\"I am learning Python\")\n",
    "finally:\n",
    "  print(\"The 'try except' is executed\")"
   ]
  },
  {
   "cell_type": "code",
   "execution_count": 20,
   "id": "ddac26b3-e8fe-4575-9c13-44d44b3f6324",
   "metadata": {},
   "outputs": [
    {
     "name": "stdin",
     "output_type": "stream",
     "text": [
      "Enter odd number:  64\n"
     ]
    },
    {
     "name": "stdout",
     "output_type": "stream",
     "text": [
      "<class 'ValueError'>\n"
     ]
    }
   ],
   "source": [
    "#(90)Write python program that user to enter only odd numbers, else will raise an exception.\n",
    "\n",
    "try:\n",
    "    na = int(input(\"Enter odd number: \"))\n",
    "    if na % 2 == 0:\n",
    "        raise (ValueError(\"Error: The number is not odd number!\"))\n",
    "    print(f\"odd number: {na}\")\n",
    "except ValueError:\n",
    "    print(ValueError)"
   ]
  },
  {
   "cell_type": "code",
   "execution_count": null,
   "id": "96e37b6d-b3a5-4c16-ae8d-09901b1bae18",
   "metadata": {},
   "outputs": [],
   "source": []
  }
 ],
 "metadata": {
  "kernelspec": {
   "display_name": "Python 3 (ipykernel)",
   "language": "python",
   "name": "python3"
  },
  "language_info": {
   "codemirror_mode": {
    "name": "ipython",
    "version": 3
   },
   "file_extension": ".py",
   "mimetype": "text/x-python",
   "name": "python",
   "nbconvert_exporter": "python",
   "pygments_lexer": "ipython3",
   "version": "3.12.4"
  }
 },
 "nbformat": 4,
 "nbformat_minor": 5
}
